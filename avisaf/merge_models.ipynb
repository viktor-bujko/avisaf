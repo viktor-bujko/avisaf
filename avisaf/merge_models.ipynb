{
 "cells": [
  {
   "cell_type": "code",
   "execution_count": 2,
   "metadata": {},
   "outputs": [],
   "source": [
    "import json\n",
    "import lzma\n",
    "import pickle\n",
    "from pathlib import Path\n",
    "\n",
    "fps = [\n",
    "    Path(\"../models/classifiers/final/Events_Detector_MLP\"),\n",
    "    Path(\"../models/classifiers/final/Events_When_Detected_MLP\"),\n",
    "    Path(\"../models/classifiers/final/Flight_Phase_MLP\"),\n",
    "    Path(\"../models/classifiers/final/Primary_Problem_MLP\")\n",
    "]\n",
    "\n",
    "models = []\n",
    "encoders = []\n",
    "params = []\n",
    "for file in fps:\n",
    "    with lzma.open(Path(file, \"classifier.model\"), \"rb\") as f,\\\n",
    "        open(Path(file, \"parameters.json\"), \"r\") as params_file:\n",
    "        model, encoder = pickle.load(f)\n",
    "        parameters = json.load(params_file)\n",
    "        # ===============================\n",
    "        models.append(model)\n",
    "        encoders.append(encoder)\n",
    "        params.append(parameters)\n",
    "        "
   ]
  },
  {
   "cell_type": "code",
   "execution_count": 3,
   "metadata": {},
   "outputs": [
    {
     "data": {
      "text/plain": [
       "[{'Events_Detector': MLPClassifier(alpha=0.0005, batch_size=256, early_stopping=True,\n",
       "                hidden_layer_sizes=(512, 256), learning_rate='adaptive',\n",
       "                learning_rate_init=0.003, n_iter_no_change=15, random_state=4030,\n",
       "                verbose=True)},\n",
       " {'Events_When Detected': MLPClassifier(alpha=0.0005, batch_size=256, early_stopping=True,\n",
       "                hidden_layer_sizes=(512, 256), learning_rate='adaptive',\n",
       "                learning_rate_init=0.003, n_iter_no_change=15, random_state=4030,\n",
       "                verbose=True)},\n",
       " {'Aircraft 1_Flight Phase': MLPClassifier(alpha=0.0005, batch_size=256, early_stopping=True,\n",
       "                hidden_layer_sizes=(512, 256), learning_rate='adaptive',\n",
       "                learning_rate_init=0.003, n_iter_no_change=15, random_state=4030,\n",
       "                verbose=True)},\n",
       " {'Assessments_Primary Problem': MLPClassifier(alpha=0.0005, batch_size=256, early_stopping=True,\n",
       "                hidden_layer_sizes=(512, 256), learning_rate='adaptive',\n",
       "                learning_rate_init=0.003, n_iter_no_change=15, random_state=4030,\n",
       "                verbose=True)}]"
      ]
     },
     "execution_count": 3,
     "metadata": {},
     "output_type": "execute_result"
    }
   ],
   "source": [
    "models"
   ]
  },
  {
   "cell_type": "code",
   "execution_count": 4,
   "metadata": {},
   "outputs": [
    {
     "data": {
      "text/plain": [
       "[{'Events_Detector': LabelEncoder()},\n",
       " {'Events_When Detected': LabelEncoder()},\n",
       " {'Aircraft 1_Flight Phase': LabelEncoder()},\n",
       " {'Assessments_Primary Problem': LabelEncoder()}]"
      ]
     },
     "execution_count": 4,
     "metadata": {},
     "output_type": "execute_result"
    }
   ],
   "source": [
    "encoders"
   ]
  },
  {
   "cell_type": "code",
   "execution_count": 7,
   "metadata": {},
   "outputs": [],
   "source": [
    "models_dict = {}\n",
    "encoders_dict = {}\n",
    "params_dict = {}"
   ]
  },
  {
   "cell_type": "code",
   "execution_count": 8,
   "metadata": {},
   "outputs": [
    {
     "data": {
      "text/plain": [
       "{'Events_Detector': MLPClassifier(alpha=0.0005, batch_size=256, early_stopping=True,\n",
       "               hidden_layer_sizes=(512, 256), learning_rate='adaptive',\n",
       "               learning_rate_init=0.003, n_iter_no_change=15, random_state=4030,\n",
       "               verbose=True),\n",
       " 'Events_When Detected': MLPClassifier(alpha=0.0005, batch_size=256, early_stopping=True,\n",
       "               hidden_layer_sizes=(512, 256), learning_rate='adaptive',\n",
       "               learning_rate_init=0.003, n_iter_no_change=15, random_state=4030,\n",
       "               verbose=True),\n",
       " 'Aircraft 1_Flight Phase': MLPClassifier(alpha=0.0005, batch_size=256, early_stopping=True,\n",
       "               hidden_layer_sizes=(512, 256), learning_rate='adaptive',\n",
       "               learning_rate_init=0.003, n_iter_no_change=15, random_state=4030,\n",
       "               verbose=True),\n",
       " 'Assessments_Primary Problem': MLPClassifier(alpha=0.0005, batch_size=256, early_stopping=True,\n",
       "               hidden_layer_sizes=(512, 256), learning_rate='adaptive',\n",
       "               learning_rate_init=0.003, n_iter_no_change=15, random_state=4030,\n",
       "               verbose=True)}"
      ]
     },
     "execution_count": 8,
     "metadata": {},
     "output_type": "execute_result"
    }
   ],
   "source": [
    "for model in models:\n",
    "    models_dict.update(model)\n",
    "\n",
    "models_dict"
   ]
  },
  {
   "cell_type": "code",
   "execution_count": 9,
   "metadata": {},
   "outputs": [
    {
     "data": {
      "text/plain": [
       "{'Events_Detector': LabelEncoder(),\n",
       " 'Events_When Detected': LabelEncoder(),\n",
       " 'Aircraft 1_Flight Phase': LabelEncoder(),\n",
       " 'Assessments_Primary Problem': LabelEncoder()}"
      ]
     },
     "execution_count": 9,
     "metadata": {},
     "output_type": "execute_result"
    }
   ],
   "source": [
    "for encoder in encoders:\n",
    "    encoders_dict.update(encoder)\n",
    "\n",
    "encoders_dict"
   ]
  },
  {
   "cell_type": "code",
   "execution_count": 10,
   "metadata": {},
   "outputs": [
    {
     "data": {
      "text/plain": [
       "{'Events_Detector': {'algorithm': 'mlp',\n",
       "  'has_default_class': False,\n",
       "  'encodings': {'0': 'Automation',\n",
       "   '1': 'Person Air Traffic Control',\n",
       "   '2': 'Person Flight Crew'},\n",
       "  'trained_labels': ['Automation',\n",
       "   'Person Air Traffic Control',\n",
       "   'Person Flight Crew'],\n",
       "  'vectorizer_params': {'name': 'TfIdfVectorizer',\n",
       "   'vectorizer': 'tfidf',\n",
       "   'encoding': 'utf-8',\n",
       "   'decode_error': 'strict',\n",
       "   'lowercase': True,\n",
       "   'ngram_range': [1, 2],\n",
       "   'max_features': 100000,\n",
       "   'analyzer': 'word',\n",
       "   'tokenizer': None,\n",
       "   'preprocessor': None,\n",
       "   'use_idf': True,\n",
       "   'norm': 'l2'},\n",
       "  'model_params': {'activation': 'relu',\n",
       "   'alpha': 0.0005,\n",
       "   'batch_size': 256,\n",
       "   'beta_1': 0.9,\n",
       "   'beta_2': 0.999,\n",
       "   'early_stopping': True,\n",
       "   'epsilon': 1e-08,\n",
       "   'hidden_layer_sizes': [512, 256],\n",
       "   'learning_rate': 'adaptive',\n",
       "   'learning_rate_init': 0.003,\n",
       "   'max_fun': 15000,\n",
       "   'max_iter': 200,\n",
       "   'momentum': 0.9,\n",
       "   'n_iter_no_change': 15,\n",
       "   'nesterovs_momentum': True,\n",
       "   'power_t': 0.5,\n",
       "   'random_state': 4030,\n",
       "   'shuffle': True,\n",
       "   'solver': 'adam',\n",
       "   'tol': 0.0001,\n",
       "   'validation_fraction': 0.1,\n",
       "   'verbose': True,\n",
       "   'warm_start': False},\n",
       "  'trained_texts': ['data_files/ASRS/ASRS_train_1.csv',\n",
       "   'data_files/ASRS/ASRS_train_2.csv',\n",
       "   'data_files/ASRS/ASRS_train_3.csv',\n",
       "   'data_files/ASRS/ASRS_train_4.csv',\n",
       "   'data_files/ASRS/ASRS_train_5.csv',\n",
       "   'data_files/ASRS/ASRS_train_6.csv',\n",
       "   'data_files/ASRS/ASRS_train_7.csv',\n",
       "   'data_files/ASRS/ASRS_train_8.csv',\n",
       "   'data_files/ASRS/ASRS_train_9.csv']},\n",
       " 'Events_When Detected': {'algorithm': 'mlp',\n",
       "  'has_default_class': False,\n",
       "  'encodings': {'0': 'Gate', '1': 'In-flight', '2': 'Pre-flight', '3': 'Taxi'},\n",
       "  'trained_labels': ['Gate', 'In-flight', 'Pre-flight', 'Taxi'],\n",
       "  'vectorizer_params': {'name': 'TfIdfVectorizer',\n",
       "   'vectorizer': 'tfidf',\n",
       "   'encoding': 'utf-8',\n",
       "   'decode_error': 'strict',\n",
       "   'lowercase': True,\n",
       "   'ngram_range': [1, 2],\n",
       "   'max_features': 100000,\n",
       "   'analyzer': 'word',\n",
       "   'tokenizer': None,\n",
       "   'preprocessor': None,\n",
       "   'use_idf': True,\n",
       "   'norm': 'l2'},\n",
       "  'model_params': {'activation': 'relu',\n",
       "   'alpha': 0.0005,\n",
       "   'batch_size': 256,\n",
       "   'beta_1': 0.9,\n",
       "   'beta_2': 0.999,\n",
       "   'early_stopping': True,\n",
       "   'epsilon': 1e-08,\n",
       "   'hidden_layer_sizes': [512, 256],\n",
       "   'learning_rate': 'adaptive',\n",
       "   'learning_rate_init': 0.003,\n",
       "   'max_fun': 15000,\n",
       "   'max_iter': 200,\n",
       "   'momentum': 0.9,\n",
       "   'n_iter_no_change': 15,\n",
       "   'nesterovs_momentum': True,\n",
       "   'power_t': 0.5,\n",
       "   'random_state': 4030,\n",
       "   'shuffle': True,\n",
       "   'solver': 'adam',\n",
       "   'tol': 0.0001,\n",
       "   'validation_fraction': 0.1,\n",
       "   'verbose': True,\n",
       "   'warm_start': False},\n",
       "  'trained_texts': ['data_files/ASRS/ASRS_train_1.csv',\n",
       "   'data_files/ASRS/ASRS_train_2.csv',\n",
       "   'data_files/ASRS/ASRS_train_3.csv',\n",
       "   'data_files/ASRS/ASRS_train_4.csv',\n",
       "   'data_files/ASRS/ASRS_train_5.csv',\n",
       "   'data_files/ASRS/ASRS_train_6.csv',\n",
       "   'data_files/ASRS/ASRS_train_7.csv',\n",
       "   'data_files/ASRS/ASRS_train_8.csv',\n",
       "   'data_files/ASRS/ASRS_train_9.csv']},\n",
       " 'Aircraft 1_Flight Phase': {'algorithm': 'mlp',\n",
       "  'has_default_class': False,\n",
       "  'encodings': {'0': 'Approach',\n",
       "   '1': 'Climb',\n",
       "   '2': 'Cruise',\n",
       "   '3': 'Descent',\n",
       "   '4': 'Landing',\n",
       "   '5': 'Parked',\n",
       "   '6': 'Takeoff',\n",
       "   '7': 'Taxi'},\n",
       "  'trained_labels': ['Approach',\n",
       "   'Climb',\n",
       "   'Cruise',\n",
       "   'Descent',\n",
       "   'Landing',\n",
       "   'Parked',\n",
       "   'Takeoff',\n",
       "   'Taxi'],\n",
       "  'vectorizer_params': {'name': 'TfIdfVectorizer',\n",
       "   'vectorizer': 'tfidf',\n",
       "   'encoding': 'utf-8',\n",
       "   'decode_error': 'strict',\n",
       "   'lowercase': True,\n",
       "   'ngram_range': [1, 2],\n",
       "   'max_features': 100000,\n",
       "   'analyzer': 'word',\n",
       "   'tokenizer': None,\n",
       "   'preprocessor': None,\n",
       "   'use_idf': True,\n",
       "   'norm': 'l2'},\n",
       "  'model_params': {'activation': 'relu',\n",
       "   'alpha': 0.0005,\n",
       "   'batch_size': 256,\n",
       "   'beta_1': 0.9,\n",
       "   'beta_2': 0.999,\n",
       "   'early_stopping': True,\n",
       "   'epsilon': 1e-08,\n",
       "   'hidden_layer_sizes': [512, 256],\n",
       "   'learning_rate': 'adaptive',\n",
       "   'learning_rate_init': 0.003,\n",
       "   'max_fun': 15000,\n",
       "   'max_iter': 200,\n",
       "   'momentum': 0.9,\n",
       "   'n_iter_no_change': 15,\n",
       "   'nesterovs_momentum': True,\n",
       "   'power_t': 0.5,\n",
       "   'random_state': 4030,\n",
       "   'shuffle': True,\n",
       "   'solver': 'adam',\n",
       "   'tol': 0.0001,\n",
       "   'validation_fraction': 0.1,\n",
       "   'verbose': True,\n",
       "   'warm_start': False},\n",
       "  'trained_texts': ['data_files/ASRS/ASRS_train_1.csv',\n",
       "   'data_files/ASRS/ASRS_train_2.csv',\n",
       "   'data_files/ASRS/ASRS_train_3.csv',\n",
       "   'data_files/ASRS/ASRS_train_4.csv',\n",
       "   'data_files/ASRS/ASRS_train_5.csv',\n",
       "   'data_files/ASRS/ASRS_train_6.csv',\n",
       "   'data_files/ASRS/ASRS_train_7.csv',\n",
       "   'data_files/ASRS/ASRS_train_8.csv',\n",
       "   'data_files/ASRS/ASRS_train_9.csv']},\n",
       " 'Assessments_Primary Problem': {'algorithm': 'mlp',\n",
       "  'has_default_class': False,\n",
       "  'encodings': {'0': 'Aircraft',\n",
       "   '1': 'Ambiguous',\n",
       "   '2': 'Human Factors',\n",
       "   '3': 'Procedure'},\n",
       "  'trained_labels': ['Aircraft', 'Ambiguous', 'Human Factors', 'Procedure'],\n",
       "  'vectorizer_params': {'name': 'TfIdfVectorizer',\n",
       "   'vectorizer': 'tfidf',\n",
       "   'encoding': 'utf-8',\n",
       "   'decode_error': 'strict',\n",
       "   'lowercase': True,\n",
       "   'ngram_range': [1, 2],\n",
       "   'max_features': 100000,\n",
       "   'analyzer': 'word',\n",
       "   'tokenizer': None,\n",
       "   'preprocessor': None,\n",
       "   'use_idf': True,\n",
       "   'norm': 'l2'},\n",
       "  'model_params': {'activation': 'relu',\n",
       "   'alpha': 0.0005,\n",
       "   'batch_size': 256,\n",
       "   'beta_1': 0.9,\n",
       "   'beta_2': 0.999,\n",
       "   'early_stopping': True,\n",
       "   'epsilon': 1e-08,\n",
       "   'hidden_layer_sizes': [512, 256],\n",
       "   'learning_rate': 'adaptive',\n",
       "   'learning_rate_init': 0.003,\n",
       "   'max_fun': 15000,\n",
       "   'max_iter': 200,\n",
       "   'momentum': 0.9,\n",
       "   'n_iter_no_change': 15,\n",
       "   'nesterovs_momentum': True,\n",
       "   'power_t': 0.5,\n",
       "   'random_state': 4030,\n",
       "   'shuffle': True,\n",
       "   'solver': 'adam',\n",
       "   'tol': 0.0001,\n",
       "   'validation_fraction': 0.1,\n",
       "   'verbose': True,\n",
       "   'warm_start': False},\n",
       "  'trained_texts': ['data_files/ASRS/ASRS_train_1.csv',\n",
       "   'data_files/ASRS/ASRS_train_2.csv',\n",
       "   'data_files/ASRS/ASRS_train_3.csv',\n",
       "   'data_files/ASRS/ASRS_train_4.csv',\n",
       "   'data_files/ASRS/ASRS_train_5.csv',\n",
       "   'data_files/ASRS/ASRS_train_6.csv',\n",
       "   'data_files/ASRS/ASRS_train_7.csv',\n",
       "   'data_files/ASRS/ASRS_train_8.csv',\n",
       "   'data_files/ASRS/ASRS_train_9.csv']}}"
      ]
     },
     "execution_count": 10,
     "metadata": {},
     "output_type": "execute_result"
    }
   ],
   "source": [
    "for param in params:\n",
    "    params_dict.update(param)\n",
    "\n",
    "params_dict"
   ]
  },
  {
   "cell_type": "code",
   "execution_count": 14,
   "metadata": {},
   "outputs": [
    {
     "name": "stdout",
     "output_type": "stream",
     "text": [
      "True\n",
      "True\n"
     ]
    }
   ],
   "source": [
    "output_model_dir = Path(\"../models/classifiers/final/\")\n",
    "\n",
    "print(output_model_dir.exists())\n",
    "print(output_model_dir.is_dir())\n",
    "\n",
    "output_model_path = Path(output_model_dir, \"final_clasifier_model\")\n",
    "output_model_path.mkdir(exist_ok=False)"
   ]
  },
  {
   "cell_type": "code",
   "execution_count": 15,
   "metadata": {},
   "outputs": [],
   "source": [
    "with lzma.open(Path(output_model_path, \"classifier.model\"), \"wb\") as final_model_file:\n",
    "    pickle.dump((models_dict, encoders_dict), final_model_file)\n",
    "\n",
    "with open(Path(output_model_path, \"parameters.json\"), \"w\", encoding=\"utf-8\") as params_out:\n",
    "    json.dump(params_dict, params_out, indent=4)"
   ]
  }
 ],
 "metadata": {
  "kernelspec": {
   "display_name": "Python 3.8.2 ('spacy3_env': venv)",
   "language": "python",
   "name": "python3"
  },
  "language_info": {
   "codemirror_mode": {
    "name": "ipython",
    "version": 3
   },
   "file_extension": ".py",
   "mimetype": "text/x-python",
   "name": "python",
   "nbconvert_exporter": "python",
   "pygments_lexer": "ipython3",
   "version": "3.8.2"
  },
  "orig_nbformat": 4,
  "vscode": {
   "interpreter": {
    "hash": "2b327ca207a6e5a0f973289bfd60a80ecb3a4a43483281e04b70036cb786b567"
   }
  }
 },
 "nbformat": 4,
 "nbformat_minor": 2
}
